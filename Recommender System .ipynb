{
 "cells": [
  {
   "cell_type": "markdown",
   "metadata": {},
   "source": [
    "# Recommendation System\n",
    "### Modeled on TripAdvisor data"
   ]
  },
  {
   "cell_type": "markdown",
   "metadata": {},
   "source": [
    "Reccommendation Systems aim at finding items that users might be interested in given a set of characteristics. Recommendation systems are generally used on online stores and websites such as Netflix.(Mitra et al. 2016). The process of creating personalised recommendation for users is described in detail by Adomavicius & Tuzhilin (2005). \n",
    "\n",
    "Leskovec et al. (2014) state that there are two main architectures for recommendation systems. First are content-based systems. These focus on the characteristics of the items. On a content base system, users are recommended items that are similar to the ones that they have already consumed. Second, are collaborative filtering systems which focus on the relationship between customers and items. Ansari et al. (1999) describes collaborative filtering as an algorithm that mimics word-of-mouth communication because the algorithm suggests customers, items that people similar to them have purchased.\n",
    "\n",
    "This notebook shows how to create a simple recommendation system using trip advisor data. The aim is therefore to create restaurant recommendations. I first created a simple system that ranks all restaurants and returns the top rated. Second I created a system that gives recommendations based on a particular restaurant. For example, if you feed the alghorithm the name of a restaurant, it will return a list of similar ones to it. "
   ]
  },
  {
   "cell_type": "code",
   "execution_count": 1,
   "metadata": {},
   "outputs": [
    {
     "name": "stdout",
     "output_type": "stream",
     "text": [
      "[nltk_data] Downloading package punkt to /Users/gioia/nltk_data...\n",
      "[nltk_data]   Package punkt is already up-to-date!\n"
     ]
    }
   ],
   "source": [
    "# import packages\n",
    "import matplotlib.pyplot as plt\n",
    "import pandas as pd\n",
    "import numpy as np\n",
    "from sklearn import preprocessing\n",
    "from sklearn import model_selection\n",
    "from sklearn.decomposition import PCA\n",
    "from sklearn.preprocessing import scale\n",
    "from sklearn.ensemble import RandomForestRegressor\n",
    "from sklearn.linear_model import LinearRegression\n",
    "from nltk.tokenize import word_tokenize\n",
    "from nltk.corpus import stopwords\n",
    "from nltk.stem import PorterStemmer\n",
    "from wordcloud import WordCloud\n",
    "from math import log, sqrt\n",
    "from sklearn.model_selection import train_test_split\n",
    "from sklearn.feature_extraction.text import TfidfVectorizer\n",
    "from sklearn.metrics.pairwise import linear_kernel\n",
    "\n",
    "\n",
    "\n",
    "import warnings\n",
    "\n",
    "\n",
    "import nltk\n",
    "nltk.download('punkt')\n",
    "warnings.filterwarnings('ignore')\n",
    "\n",
    "%matplotlib inline"
   ]
  },
  {
   "cell_type": "code",
   "execution_count": 4,
   "metadata": {},
   "outputs": [],
   "source": [
    "# read data \n",
    "TAdata = pd.read_csv('./TA_restaurants_curated.csv')"
   ]
  },
  {
   "cell_type": "code",
   "execution_count": 5,
   "metadata": {},
   "outputs": [],
   "source": [
    "# copy data \n",
    "data = TAdata"
   ]
  },
  {
   "cell_type": "code",
   "execution_count": 6,
   "metadata": {
    "scrolled": true
   },
   "outputs": [
    {
     "data": {
      "text/html": [
       "<div>\n",
       "<style scoped>\n",
       "    .dataframe tbody tr th:only-of-type {\n",
       "        vertical-align: middle;\n",
       "    }\n",
       "\n",
       "    .dataframe tbody tr th {\n",
       "        vertical-align: top;\n",
       "    }\n",
       "\n",
       "    .dataframe thead th {\n",
       "        text-align: right;\n",
       "    }\n",
       "</style>\n",
       "<table border=\"1\" class=\"dataframe\">\n",
       "  <thead>\n",
       "    <tr style=\"text-align: right;\">\n",
       "      <th></th>\n",
       "      <th>Unnamed: 0</th>\n",
       "      <th>Name</th>\n",
       "      <th>City</th>\n",
       "      <th>Cuisine Style</th>\n",
       "      <th>Ranking</th>\n",
       "      <th>Rating</th>\n",
       "      <th>Price Range</th>\n",
       "      <th>Number of Reviews</th>\n",
       "      <th>Reviews</th>\n",
       "      <th>URL_TA</th>\n",
       "      <th>ID_TA</th>\n",
       "    </tr>\n",
       "  </thead>\n",
       "  <tbody>\n",
       "    <tr>\n",
       "      <th>0</th>\n",
       "      <td>0</td>\n",
       "      <td>Martine of Martine's Table</td>\n",
       "      <td>Amsterdam</td>\n",
       "      <td>['French', 'Dutch', 'European']</td>\n",
       "      <td>1.0</td>\n",
       "      <td>5.0</td>\n",
       "      <td>$$ - $$$</td>\n",
       "      <td>136.0</td>\n",
       "      <td>[['Just like home', 'A Warm Welcome to Wintry ...</td>\n",
       "      <td>/Restaurant_Review-g188590-d11752080-Reviews-M...</td>\n",
       "      <td>d11752080</td>\n",
       "    </tr>\n",
       "    <tr>\n",
       "      <th>1</th>\n",
       "      <td>1</td>\n",
       "      <td>De Silveren Spiegel</td>\n",
       "      <td>Amsterdam</td>\n",
       "      <td>['Dutch', 'European', 'Vegetarian Friendly', '...</td>\n",
       "      <td>2.0</td>\n",
       "      <td>4.5</td>\n",
       "      <td>$$$$</td>\n",
       "      <td>812.0</td>\n",
       "      <td>[['Great food and staff', 'just perfect'], ['0...</td>\n",
       "      <td>/Restaurant_Review-g188590-d693419-Reviews-De_...</td>\n",
       "      <td>d693419</td>\n",
       "    </tr>\n",
       "    <tr>\n",
       "      <th>2</th>\n",
       "      <td>2</td>\n",
       "      <td>La Rive</td>\n",
       "      <td>Amsterdam</td>\n",
       "      <td>['Mediterranean', 'French', 'International', '...</td>\n",
       "      <td>3.0</td>\n",
       "      <td>4.5</td>\n",
       "      <td>$$$$</td>\n",
       "      <td>567.0</td>\n",
       "      <td>[['Satisfaction', 'Delicious old school restau...</td>\n",
       "      <td>/Restaurant_Review-g188590-d696959-Reviews-La_...</td>\n",
       "      <td>d696959</td>\n",
       "    </tr>\n",
       "    <tr>\n",
       "      <th>3</th>\n",
       "      <td>3</td>\n",
       "      <td>Vinkeles</td>\n",
       "      <td>Amsterdam</td>\n",
       "      <td>['French', 'European', 'International', 'Conte...</td>\n",
       "      <td>4.0</td>\n",
       "      <td>5.0</td>\n",
       "      <td>$$$$</td>\n",
       "      <td>564.0</td>\n",
       "      <td>[['True five star dinner', 'A superb evening o...</td>\n",
       "      <td>/Restaurant_Review-g188590-d1239229-Reviews-Vi...</td>\n",
       "      <td>d1239229</td>\n",
       "    </tr>\n",
       "    <tr>\n",
       "      <th>4</th>\n",
       "      <td>4</td>\n",
       "      <td>Librije's Zusje Amsterdam</td>\n",
       "      <td>Amsterdam</td>\n",
       "      <td>['Dutch', 'European', 'International', 'Vegeta...</td>\n",
       "      <td>5.0</td>\n",
       "      <td>4.5</td>\n",
       "      <td>$$$$</td>\n",
       "      <td>316.0</td>\n",
       "      <td>[['Best meal.... EVER', 'super food experience...</td>\n",
       "      <td>/Restaurant_Review-g188590-d6864170-Reviews-Li...</td>\n",
       "      <td>d6864170</td>\n",
       "    </tr>\n",
       "  </tbody>\n",
       "</table>\n",
       "</div>"
      ],
      "text/plain": [
       "   Unnamed: 0                        Name       City  \\\n",
       "0           0  Martine of Martine's Table  Amsterdam   \n",
       "1           1         De Silveren Spiegel  Amsterdam   \n",
       "2           2                     La Rive  Amsterdam   \n",
       "3           3                    Vinkeles  Amsterdam   \n",
       "4           4   Librije's Zusje Amsterdam  Amsterdam   \n",
       "\n",
       "                                       Cuisine Style  Ranking  Rating  \\\n",
       "0                    ['French', 'Dutch', 'European']      1.0     5.0   \n",
       "1  ['Dutch', 'European', 'Vegetarian Friendly', '...      2.0     4.5   \n",
       "2  ['Mediterranean', 'French', 'International', '...      3.0     4.5   \n",
       "3  ['French', 'European', 'International', 'Conte...      4.0     5.0   \n",
       "4  ['Dutch', 'European', 'International', 'Vegeta...      5.0     4.5   \n",
       "\n",
       "  Price Range  Number of Reviews  \\\n",
       "0    $$ - $$$              136.0   \n",
       "1        $$$$              812.0   \n",
       "2        $$$$              567.0   \n",
       "3        $$$$              564.0   \n",
       "4        $$$$              316.0   \n",
       "\n",
       "                                             Reviews  \\\n",
       "0  [['Just like home', 'A Warm Welcome to Wintry ...   \n",
       "1  [['Great food and staff', 'just perfect'], ['0...   \n",
       "2  [['Satisfaction', 'Delicious old school restau...   \n",
       "3  [['True five star dinner', 'A superb evening o...   \n",
       "4  [['Best meal.... EVER', 'super food experience...   \n",
       "\n",
       "                                              URL_TA      ID_TA  \n",
       "0  /Restaurant_Review-g188590-d11752080-Reviews-M...  d11752080  \n",
       "1  /Restaurant_Review-g188590-d693419-Reviews-De_...    d693419  \n",
       "2  /Restaurant_Review-g188590-d696959-Reviews-La_...    d696959  \n",
       "3  /Restaurant_Review-g188590-d1239229-Reviews-Vi...   d1239229  \n",
       "4  /Restaurant_Review-g188590-d6864170-Reviews-Li...   d6864170  "
      ]
     },
     "execution_count": 6,
     "metadata": {},
     "output_type": "execute_result"
    }
   ],
   "source": [
    "# look at data\n",
    "data.head()"
   ]
  },
  {
   "cell_type": "code",
   "execution_count": 7,
   "metadata": {
    "scrolled": true
   },
   "outputs": [
    {
     "data": {
      "text/plain": [
       "(125527, 11)"
      ]
     },
     "execution_count": 7,
     "metadata": {},
     "output_type": "execute_result"
    }
   ],
   "source": [
    "data.shape"
   ]
  },
  {
   "cell_type": "markdown",
   "metadata": {},
   "source": [
    "#### Pre-Processing"
   ]
  },
  {
   "cell_type": "code",
   "execution_count": 8,
   "metadata": {},
   "outputs": [],
   "source": [
    "# eliminate columns we are not using\n",
    "data = data.iloc[:,[1,2,3,4,5,6,7,8,10]]"
   ]
  },
  {
   "cell_type": "code",
   "execution_count": 9,
   "metadata": {},
   "outputs": [],
   "source": [
    "# replace price range values with 'cheap', 'medium' and 'expensive' \n",
    "data['Price Range'].replace(['$', '$$ - $$$', '$$$$'], ['cheap', 'medium', 'expensive'], inplace=True)"
   ]
  },
  {
   "cell_type": "code",
   "execution_count": 10,
   "metadata": {},
   "outputs": [],
   "source": [
    "# make city lowercase \n",
    "data['City'] = data['City'].str.lower()"
   ]
  },
  {
   "cell_type": "markdown",
   "metadata": {},
   "source": [
    "## 1. Simple Reccommender\n",
    "\n",
    "Simple recommenders are basic systems that recommends the top items based on a certain metric or score.\n",
    "\n",
    "The following are the steps involved:\n",
    "\n",
    "+ Decide on the metric or score to rate restaurants on.\n",
    "+ Calculate the score for every restaurant.\n",
    "+ Sort the restaurants based on the score and output the top results.\n",
    "\n",
    "#### Step 1: Weight the ratings based on the numbers of reviews\n",
    "\n",
    "$$\n",
    "WR = \\frac{v}{v+m}R + \\frac{m}{v+m}C\n",
    "$$\n",
    "where: \n",
    "\n",
    "+ $v$ = number of reviews per restaurant\n",
    "+ $m$ = mimimum number of reviews required to be listed in the chart \n",
    "+ $R$ = average review of the restaurant\n",
    "+ $C$ = mean review across all restaurants\n"
   ]
  },
  {
   "cell_type": "code",
   "execution_count": 16,
   "metadata": {},
   "outputs": [
    {
     "name": "stdout",
     "output_type": "stream",
     "text": [
      "The mean review across all restaurants is  3.987\n"
     ]
    }
   ],
   "source": [
    "# calculate C first\n",
    "C = data['Rating'].mean()\n",
    "print('The mean review across all restaurants is ', str(C)[0:5])"
   ]
  },
  {
   "cell_type": "code",
   "execution_count": 28,
   "metadata": {},
   "outputs": [
    {
     "name": "stdout",
     "output_type": "stream",
     "text": [
      "The minimum number of reviews required to be listed in the chart is 32.0\n"
     ]
    }
   ],
   "source": [
    "# caclulate m \n",
    "# What is the minimum number of review a restaurant need to have to be included in this chart\n",
    "m = data['Number of Reviews'].quantile(0.50)\n",
    "print('The minimum number of reviews required to be listed in the chart is',m)"
   ]
  },
  {
   "cell_type": "code",
   "execution_count": 29,
   "metadata": {
    "scrolled": true
   },
   "outputs": [
    {
     "name": "stdout",
     "output_type": "stream",
     "text": [
      "54757 restaurants can be included in the chart\n"
     ]
    }
   ],
   "source": [
    "# get restaurants that have at leat m reviews\n",
    "SR_data = data.copy().loc[data['Number of Reviews'] >= m]\n",
    "print(str(SR_data.shape[0]) + ' restaurants can be included in the chart')"
   ]
  },
  {
   "cell_type": "code",
   "execution_count": 30,
   "metadata": {},
   "outputs": [],
   "source": [
    "# create a function that calculate the weighted score of each movie \n",
    "def weighted_review(x, m=m, C=C):\n",
    "    v = x['Number of Reviews']\n",
    "    R = x['Rating']\n",
    "    WR = (v/(v+m) * R) + (m/(m+v) * C)\n",
    "    return WR"
   ]
  },
  {
   "cell_type": "code",
   "execution_count": 31,
   "metadata": {},
   "outputs": [],
   "source": [
    "# create a new column of dataframe called 'score' where to store this value \n",
    "SR_data['score'] = SR_data.apply(weighted_review, axis=1)"
   ]
  },
  {
   "cell_type": "code",
   "execution_count": 32,
   "metadata": {
    "scrolled": true
   },
   "outputs": [
    {
     "name": "stdout",
     "output_type": "stream",
     "text": [
      "Insert City (lower case please): london\n",
      "Insert Price Range: \"cheap\", \"medium\", \"expensive\" or \"all \"expensive\n"
     ]
    },
    {
     "data": {
      "text/html": [
       "<div>\n",
       "<style scoped>\n",
       "    .dataframe tbody tr th:only-of-type {\n",
       "        vertical-align: middle;\n",
       "    }\n",
       "\n",
       "    .dataframe tbody tr th {\n",
       "        vertical-align: top;\n",
       "    }\n",
       "\n",
       "    .dataframe thead th {\n",
       "        text-align: right;\n",
       "    }\n",
       "</style>\n",
       "<table border=\"1\" class=\"dataframe\">\n",
       "  <thead>\n",
       "    <tr style=\"text-align: right;\">\n",
       "      <th></th>\n",
       "      <th>Name</th>\n",
       "      <th>Cuisine Style</th>\n",
       "      <th>Rating</th>\n",
       "      <th>Price Range</th>\n",
       "    </tr>\n",
       "  </thead>\n",
       "  <tbody>\n",
       "    <tr>\n",
       "      <th>45596</th>\n",
       "      <td>The Five Fields</td>\n",
       "      <td>['European', 'British', 'Contemporary', 'Veget...</td>\n",
       "      <td>5.0</td>\n",
       "      <td>expensive</td>\n",
       "    </tr>\n",
       "    <tr>\n",
       "      <th>45592</th>\n",
       "      <td>Gastronhome</td>\n",
       "      <td>['French', 'Gluten Free Options', 'Vegetarian ...</td>\n",
       "      <td>5.0</td>\n",
       "      <td>expensive</td>\n",
       "    </tr>\n",
       "    <tr>\n",
       "      <th>45598</th>\n",
       "      <td>Peninsula Restaurant</td>\n",
       "      <td>['European', 'British', 'Vegetarian Friendly',...</td>\n",
       "      <td>5.0</td>\n",
       "      <td>expensive</td>\n",
       "    </tr>\n",
       "    <tr>\n",
       "      <th>46336</th>\n",
       "      <td>Sunday Champagne Brunch at The Landmark London</td>\n",
       "      <td>['European', 'British', 'Vegetarian Friendly',...</td>\n",
       "      <td>5.0</td>\n",
       "      <td>expensive</td>\n",
       "    </tr>\n",
       "    <tr>\n",
       "      <th>46515</th>\n",
       "      <td>Alexandrie Restaurant</td>\n",
       "      <td>['Mediterranean', 'Middle Eastern', 'Egyptian'...</td>\n",
       "      <td>5.0</td>\n",
       "      <td>expensive</td>\n",
       "    </tr>\n",
       "    <tr>\n",
       "      <th>46627</th>\n",
       "      <td>Sushi Tetsu</td>\n",
       "      <td>['Japanese', 'Sushi', 'Asian']</td>\n",
       "      <td>5.0</td>\n",
       "      <td>expensive</td>\n",
       "    </tr>\n",
       "    <tr>\n",
       "      <th>46519</th>\n",
       "      <td>Restaurant Flat Three</td>\n",
       "      <td>['International', 'Fusion', 'Vegetarian Friend...</td>\n",
       "      <td>5.0</td>\n",
       "      <td>expensive</td>\n",
       "    </tr>\n",
       "    <tr>\n",
       "      <th>45581</th>\n",
       "      <td>Osteria Romana</td>\n",
       "      <td>['Italian', 'Mediterranean', 'Vegetarian Frien...</td>\n",
       "      <td>5.0</td>\n",
       "      <td>expensive</td>\n",
       "    </tr>\n",
       "    <tr>\n",
       "      <th>45590</th>\n",
       "      <td>Core by Clare Smyth</td>\n",
       "      <td>['French', 'Irish', 'European', 'British', 'Co...</td>\n",
       "      <td>5.0</td>\n",
       "      <td>expensive</td>\n",
       "    </tr>\n",
       "    <tr>\n",
       "      <th>45706</th>\n",
       "      <td>Lorne Restaurant</td>\n",
       "      <td>['European', 'British', 'Vegetarian Friendly',...</td>\n",
       "      <td>5.0</td>\n",
       "      <td>expensive</td>\n",
       "    </tr>\n",
       "  </tbody>\n",
       "</table>\n",
       "</div>"
      ],
      "text/plain": [
       "                                                 Name  \\\n",
       "45596                                 The Five Fields   \n",
       "45592                                     Gastronhome   \n",
       "45598                            Peninsula Restaurant   \n",
       "46336  Sunday Champagne Brunch at The Landmark London   \n",
       "46515                           Alexandrie Restaurant   \n",
       "46627                                     Sushi Tetsu   \n",
       "46519                           Restaurant Flat Three   \n",
       "45581                                  Osteria Romana   \n",
       "45590                             Core by Clare Smyth   \n",
       "45706                                Lorne Restaurant   \n",
       "\n",
       "                                           Cuisine Style  Rating Price Range  \n",
       "45596  ['European', 'British', 'Contemporary', 'Veget...     5.0   expensive  \n",
       "45592  ['French', 'Gluten Free Options', 'Vegetarian ...     5.0   expensive  \n",
       "45598  ['European', 'British', 'Vegetarian Friendly',...     5.0   expensive  \n",
       "46336  ['European', 'British', 'Vegetarian Friendly',...     5.0   expensive  \n",
       "46515  ['Mediterranean', 'Middle Eastern', 'Egyptian'...     5.0   expensive  \n",
       "46627                     ['Japanese', 'Sushi', 'Asian']     5.0   expensive  \n",
       "46519  ['International', 'Fusion', 'Vegetarian Friend...     5.0   expensive  \n",
       "45581  ['Italian', 'Mediterranean', 'Vegetarian Frien...     5.0   expensive  \n",
       "45590  ['French', 'Irish', 'European', 'British', 'Co...     5.0   expensive  \n",
       "45706  ['European', 'British', 'Vegetarian Friendly',...     5.0   expensive  "
      ]
     },
     "execution_count": 32,
     "metadata": {},
     "output_type": "execute_result"
    }
   ],
   "source": [
    "# filter restuarants based on city and price range and then tell me the best 15 according to my score\n",
    "city = str(input('Insert City (lower case please): '))\n",
    "price_range = str(input('Insert Price Range: \"cheap\", \"medium\", \"expensive\" or \"all\" '))\n",
    "\n",
    "if price_range == 'all':\n",
    "    city_data = SR_data.loc[SR_data['City'] == city,:]\n",
    "else:\n",
    "    city_data = SR_data.loc[(SR_data['City'] == city) & (SR_data['Price Range'] == price_range),:]\n",
    "\n",
    "city_data = city_data.sort_values('score', ascending=False)\n",
    "city_data[['Name', 'Cuisine Style', 'Rating', 'Price Range']].head(10)\n"
   ]
  },
  {
   "cell_type": "markdown",
   "metadata": {},
   "source": [
    "## Content-Based Recommender\n",
    "\n",
    "This is a system that recommends restaurants that are similar to others. More specifically, we will compute pairwise similarity scores for all restaurants based on their cuisine style and  price range and recommend restaurants based on that similarity score.\n"
   ]
  },
  {
   "cell_type": "code",
   "execution_count": 36,
   "metadata": {},
   "outputs": [],
   "source": [
    "# make a description column by adding the couisine style and the price range. \n",
    "\n",
    "# make cuisine style and price range columns strings\n",
    "cols = ['Cuisine Style', 'Price Range']\n",
    "for col in cols: \n",
    "    data[col] = data[col].astype(str)\n",
    "\n",
    "new_col = []\n",
    "# for each row of cuisine style, eliminate symbol characters \n",
    "for row in np.arange(data.shape[0]):\n",
    "    c = data['Cuisine Style'][row].replace(\"[\", \"\").replace(']', '')\n",
    "    d = data['Price Range'][row]\n",
    "    # attach price range to the string \n",
    "    e = c + ' ' + d \n",
    "    # append string to new list new_col\n",
    "    new_col.append(e)\n",
    "    \n",
    "# add this column on dataset and name it description\n",
    "data['description'] = new_col"
   ]
  },
  {
   "cell_type": "markdown",
   "metadata": {},
   "source": [
    "The similarity measure between each pair of restaurants I will be using is cosine similarity. To follow is the function that returns the restaurant recommendations. \n",
    "\n",
    "the function works as follow:\n",
    "+ reduce dataset to make it easier to compute\n",
    "+ create a matrix with desctiptions. This matrix's columns are each word in the description of restaurants while each row represents a restaurant. \n",
    "+ calculate the similarity between each pair of restaurants\n",
    "+ return top 10 most similar restaurants\n",
    "\n",
    "\n"
   ]
  },
  {
   "cell_type": "code",
   "execution_count": 39,
   "metadata": {},
   "outputs": [],
   "source": [
    "# reduce dataset\n",
    "m = data['Number of Reviews'].quantile(0.95)\n",
    "CR_data = data.copy().loc[data['Number of Reviews'] >= m]\n",
    "CR_data = CR_data.reset_index(drop=True)\n",
    "\n",
    "# create matrix with descriptions\n",
    "tfidf = TfidfVectorizer(stop_words='english')\n",
    "CR_data['description']= CR_data['description'].fillna('')\n",
    "tfidf_matrix = tfidf.fit_transform(CR_data['description'])\n",
    "\n",
    "# calculate similarity \n",
    "cosine_sim = linear_kernel(tfidf_matrix, tfidf_matrix)\n",
    "\n",
    "\n",
    "def get_recommendations(name, city = 'all', cosine_sim=cosine_sim):\n",
    "    city = city\n",
    "    \n",
    "    # reset indeces\n",
    "    indices = pd.Series(CR_data.index, index=CR_data['Name']).drop_duplicates()\n",
    "    \n",
    "    # Get the index of the movie that matches the title\n",
    "    idx = indices[name]\n",
    "\n",
    "    # Get the pairwsie similarity scores of all restaurant with that restaurant\n",
    "    sim_scores = list(enumerate(cosine_sim[idx]))\n",
    "\n",
    "    # Sort the restaurants based on the similarity scores\n",
    "    sim_scores = sorted(sim_scores, key=lambda x: x[1], reverse=True)\n",
    "    \n",
    "    # Get the restaurants indices\n",
    "    res_indices = [i[0] for i in sim_scores]\n",
    "    \n",
    "    # get name, city and description of restaurant \n",
    "    sim_res = CR_data[['Name','City','description']].iloc[res_indices]\n",
    "    \n",
    "    # if city is set to all, \n",
    "    if city != 'all':\n",
    "        # only show the ones from that city \n",
    "        r = sim_res.loc[sim_res['City'] == city, :].head(10)\n",
    "    else:\n",
    "        # else show all \n",
    "        r = CR_data[['Name','City','description']].iloc[res_indices].head(10)\n",
    "\n",
    "    # Return the top 10 most similar restaurants\n",
    "    return r"
   ]
  },
  {
   "cell_type": "code",
   "execution_count": 41,
   "metadata": {},
   "outputs": [
    {
     "data": {
      "text/html": [
       "<div>\n",
       "<style scoped>\n",
       "    .dataframe tbody tr th:only-of-type {\n",
       "        vertical-align: middle;\n",
       "    }\n",
       "\n",
       "    .dataframe tbody tr th {\n",
       "        vertical-align: top;\n",
       "    }\n",
       "\n",
       "    .dataframe thead th {\n",
       "        text-align: right;\n",
       "    }\n",
       "</style>\n",
       "<table border=\"1\" class=\"dataframe\">\n",
       "  <thead>\n",
       "    <tr style=\"text-align: right;\">\n",
       "      <th></th>\n",
       "      <th>Name</th>\n",
       "      <th>City</th>\n",
       "      <th>description</th>\n",
       "    </tr>\n",
       "  </thead>\n",
       "  <tbody>\n",
       "    <tr>\n",
       "      <th>3221</th>\n",
       "      <td>Cracco</td>\n",
       "      <td>milan</td>\n",
       "      <td>'Italian', 'European', 'Contemporary', 'Vegeta...</td>\n",
       "    </tr>\n",
       "    <tr>\n",
       "      <th>3354</th>\n",
       "      <td>Trussardi alla Scala</td>\n",
       "      <td>milan</td>\n",
       "      <td>'Italian', 'Mediterranean', 'European', 'Conte...</td>\n",
       "    </tr>\n",
       "    <tr>\n",
       "      <th>3270</th>\n",
       "      <td>Al Pont de Ferr</td>\n",
       "      <td>milan</td>\n",
       "      <td>'Italian', 'Mediterranean', 'Contemporary', 'V...</td>\n",
       "    </tr>\n",
       "    <tr>\n",
       "      <th>3060</th>\n",
       "      <td>Da Vic - Ristorante Guerrini</td>\n",
       "      <td>milan</td>\n",
       "      <td>'Italian', 'Seafood', 'Mediterranean', 'Contem...</td>\n",
       "    </tr>\n",
       "    <tr>\n",
       "      <th>3161</th>\n",
       "      <td>Asola | Cucina Sartoriale</td>\n",
       "      <td>milan</td>\n",
       "      <td>'Italian', 'Seafood', 'Mediterranean', 'Europe...</td>\n",
       "    </tr>\n",
       "    <tr>\n",
       "      <th>3077</th>\n",
       "      <td>Ristorante Berton</td>\n",
       "      <td>milan</td>\n",
       "      <td>'Italian', 'Seafood', 'Mediterranean', 'Europe...</td>\n",
       "    </tr>\n",
       "    <tr>\n",
       "      <th>3075</th>\n",
       "      <td>Il Luogo di Aimo e Nadia</td>\n",
       "      <td>milan</td>\n",
       "      <td>'Italian', 'European', 'Vegetarian Friendly', ...</td>\n",
       "    </tr>\n",
       "    <tr>\n",
       "      <th>3131</th>\n",
       "      <td>Tartufotto</td>\n",
       "      <td>milan</td>\n",
       "      <td>'Italian', 'European', 'Vegetarian Friendly', ...</td>\n",
       "    </tr>\n",
       "    <tr>\n",
       "      <th>3271</th>\n",
       "      <td>Bice</td>\n",
       "      <td>milan</td>\n",
       "      <td>'Italian', 'Mediterranean', 'European', 'Veget...</td>\n",
       "    </tr>\n",
       "    <tr>\n",
       "      <th>3272</th>\n",
       "      <td>Carlo e Camilla in Segheria</td>\n",
       "      <td>milan</td>\n",
       "      <td>'Italian', 'Mediterranean', 'European', 'Veget...</td>\n",
       "    </tr>\n",
       "  </tbody>\n",
       "</table>\n",
       "</div>"
      ],
      "text/plain": [
       "                              Name   City  \\\n",
       "3221                        Cracco  milan   \n",
       "3354          Trussardi alla Scala  milan   \n",
       "3270               Al Pont de Ferr  milan   \n",
       "3060  Da Vic - Ristorante Guerrini  milan   \n",
       "3161     Asola | Cucina Sartoriale  milan   \n",
       "3077             Ristorante Berton  milan   \n",
       "3075      Il Luogo di Aimo e Nadia  milan   \n",
       "3131                    Tartufotto  milan   \n",
       "3271                          Bice  milan   \n",
       "3272   Carlo e Camilla in Segheria  milan   \n",
       "\n",
       "                                            description  \n",
       "3221  'Italian', 'European', 'Contemporary', 'Vegeta...  \n",
       "3354  'Italian', 'Mediterranean', 'European', 'Conte...  \n",
       "3270  'Italian', 'Mediterranean', 'Contemporary', 'V...  \n",
       "3060  'Italian', 'Seafood', 'Mediterranean', 'Contem...  \n",
       "3161  'Italian', 'Seafood', 'Mediterranean', 'Europe...  \n",
       "3077  'Italian', 'Seafood', 'Mediterranean', 'Europe...  \n",
       "3075  'Italian', 'European', 'Vegetarian Friendly', ...  \n",
       "3131  'Italian', 'European', 'Vegetarian Friendly', ...  \n",
       "3271  'Italian', 'Mediterranean', 'European', 'Veget...  \n",
       "3272  'Italian', 'Mediterranean', 'European', 'Veget...  "
      ]
     },
     "execution_count": 41,
     "metadata": {},
     "output_type": "execute_result"
    }
   ],
   "source": [
    "# ger recommendations for resturants similar to \n",
    "get_recommendations('Restaurant Gordon Ramsay', city='milan')\n"
   ]
  }
 ],
 "metadata": {
  "kernelspec": {
   "display_name": "Python 3",
   "language": "python",
   "name": "python3"
  },
  "language_info": {
   "codemirror_mode": {
    "name": "ipython",
    "version": 3
   },
   "file_extension": ".py",
   "mimetype": "text/x-python",
   "name": "python",
   "nbconvert_exporter": "python",
   "pygments_lexer": "ipython3",
   "version": "3.6.4"
  }
 },
 "nbformat": 4,
 "nbformat_minor": 2
}
